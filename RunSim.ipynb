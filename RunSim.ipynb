def main():

  %run -i "C:/Users/newye/OneDrive/Documents/GitHub/galSims/simulate/Simulate.py" 
  %run -i "C:/Users/newye/OneDrive/Documents/GitHub/galSims/plotting/PlotGalacticPlaneCombine.py"
  %run -i "C:/Users/newye/OneDrive/Documents/GitHub/galSims/plotting/PlotFaceOnFlux.py"
  %run -i "C:/Users/newye/OneDrive/Documents/GitHub/galSims/plotting/ParamHist.py"
  %run -i "C:/Users/newye/OneDrive/Documents/GitHub/galSims/plotting/ClusterAngular.py"

#This file runs the simulations
