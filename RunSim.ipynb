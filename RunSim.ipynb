#################################################################################################################################################
#This file runs the simulations
%run -i "OneDrive/Documents/GitHub/galSims/simulate/Simulate.py" 
%run -i "OneDrive/Documents/GitHub/galSims/plotting/PlotGalacticPlaneCombine.py"
%run -i "OneDrive/Documents/GitHub/galSims/plotting/PlotFaceOnFlux.py"
%run -i "OneDrive/Documents/GitHub/galSims/plotting/ParamHist.py"
